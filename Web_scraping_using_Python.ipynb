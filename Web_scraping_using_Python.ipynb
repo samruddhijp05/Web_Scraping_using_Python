{
  "nbformat": 4,
  "nbformat_minor": 0,
  "metadata": {
    "colab": {
      "provenance": [],
      "authorship_tag": "ABX9TyODHTFrvjcjtCQ2PTGZGvNh"
    },
    "kernelspec": {
      "name": "python3",
      "display_name": "Python 3"
    },
    "language_info": {
      "name": "python"
    }
  },
  "cells": [
    {
      "cell_type": "code",
      "source": [
        "import pandas as pd\n",
        "from urllib.parse import urlparse\n",
        "import numpy as np\n",
        "import nltk.data\n",
        "from requests_html import HTMLSession\n",
        "import csv"
      ],
      "metadata": {
        "id": "8DpJ97QjPCXm"
      },
      "execution_count": 36,
      "outputs": []
    },
    {
      "cell_type": "code",
      "source": [
        "def parse_elements(url,element):\n",
        "    session = HTMLSession()\n",
        "    r = session.get(url)\n",
        "    elements = r.html.find(element)\n",
        "    return elements"
      ],
      "metadata": {
        "id": "dhIZViZ_PGyp"
      },
      "execution_count": 37,
      "outputs": []
    },
    {
      "cell_type": "code",
      "source": [
        "##setting URL link\n",
        "url = 'https://sustainabilitymag.com/articles/data-centres-future-is-sustainable-according-to-gartner'"
      ],
      "metadata": {
        "id": "olsic33yPG1X"
      },
      "execution_count": 38,
      "outputs": []
    },
    {
      "cell_type": "code",
      "source": [
        "paragraphs = parse_elements(url, 'p')\n",
        "links = parse_elements(url, 'a')"
      ],
      "metadata": {
        "id": "AgtE5FkAPG43"
      },
      "execution_count": 39,
      "outputs": []
    },
    {
      "cell_type": "code",
      "source": [
        "(paragraphs[0]).html"
      ],
      "metadata": {
        "colab": {
          "base_uri": "https://localhost:8080/",
          "height": 53
        },
        "id": "oZwP4X_WjwMc",
        "outputId": "0fea5e79-0b45-4895-947c-24dba634935d"
      },
      "execution_count": 40,
      "outputs": [
        {
          "output_type": "execute_result",
          "data": {
            "text/plain": [
              "'<p>Technology, an ever-expanding and rapidly evolving industry. With such a pace, it is important for organisations to not only think ahead when it comes to their adoption of new solutions but to also ensure that they do so in a sustainable way.</p>'"
            ],
            "application/vnd.google.colaboratory.intrinsic+json": {
              "type": "string"
            }
          },
          "metadata": {},
          "execution_count": 40
        }
      ]
    },
    {
      "cell_type": "code",
      "source": [
        "## total links mentioned in article\n",
        "links_set = set()\n",
        "for link in links:\n",
        "  links_set.add(link.attrs['href'])\n",
        "len(links_set)"
      ],
      "metadata": {
        "colab": {
          "base_uri": "https://localhost:8080/"
        },
        "id": "CW2wdZgEjwPB",
        "outputId": "4eaf5453-0b89-4bd2-ca75-05464900031e"
      },
      "execution_count": 41,
      "outputs": [
        {
          "output_type": "execute_result",
          "data": {
            "text/plain": [
              "38"
            ]
          },
          "metadata": {},
          "execution_count": 41
        }
      ]
    },
    {
      "cell_type": "code",
      "source": [
        "##Reading and printing text from the article\n",
        "for p in paragraphs:\n",
        "  print(p.text)"
      ],
      "metadata": {
        "colab": {
          "base_uri": "https://localhost:8080/"
        },
        "id": "hUMH-1VjjwRx",
        "outputId": "4c738721-0ea5-4cba-b668-ccdcd4811456"
      },
      "execution_count": 42,
      "outputs": [
        {
          "output_type": "stream",
          "name": "stdout",
          "text": [
            "Technology, an ever-expanding and rapidly evolving industry. With such a pace, it is important for organisations to not only think ahead when it comes to their adoption of new solutions but to also ensure that they do so in a sustainable way.\n",
            "Focusing on one technology in particular, Gartner analysts, explored the benefits of having a sustainable IT infrastructure in its latest report titled: Unlock the Business Benefits of Sustainable IT Infrastructure.\n",
            "According to Gartner, 75% of organisations will have implemented a data centre infrastructure sustainability programme by 2027 to drive cost optimisation and manage stakeholder pressures. This figure has drastically increased from less than 5% in 2022.\n",
            "“Responsibilities for sustainability are increasingly being passed down from CIOs to infrastructure and operations (I&O) leaders to improve IT’s environmental performance, particularly around data centres,” said Autumn Stanish, Senior Principal Analyst at Gartner.\n",
            "She added: “This has led many down the path of greater spend and investment in environmental solutions, but environmental impact shouldn’t be the only focus. Sustainability can also have a significant positive impact on non-environmental factors, such as brand, innovation, resilience and attracting talent.”\n",
            "However, Gartner emphasises that the environmental performance of IT infrastructure is only one facet of a strong infrastructure and operations (I&O) sustainability strategy.\n",
            "“Success in aligning the I&O strategy with critical business outcomes requires a more comprehensive approach that recognises the indirect benefits that come with sustainable IT operations. This is true specifically for organisations in which IT is material to the business, such as financial services,” said Stanish.\n",
            "Cost reduction: the most effective action that an I&O leader can take is to defer purchasing new equipment and better manage, optimise or redeploy what they already have. Up to 60% in cost savings can be achieved by extending the lifespan of a product from three to five years.\n",
            "Innovation: using sustainable strategies to drive innovation and growth through new products and business models. In particular, such innovations are based on AI technology, analytics insights, and circular business models.\n",
            "“The core focus of many enterprises with a sustainability strategy is actually around how they can use it to drive innovation, differentiation and growth through new products and business models. However, fewer than half of I&O leaders we speak to are currently taking advantage of the business benefits beyond reduced energy costs,” commented Stanish.\n",
            "Risk management and mitigation: with price fluctuations and supply constraints, greater resilience can be achieved with better risk management and mitigation by being more sustainable in recycling and resource utilisation. According to Gartner, 85% of leaders agree that sustainability protects organisations from disruption.\n",
            "Following a major commitment to packaging innovation five years ago, we see the benefits of circular economy at Nestlé as explained by Antonia Wanner…\n",
            "The Green Software Foundation (GSF) welcomes Siemens to the steering committee, and CTO and CSO Peter Körte comments on sustainable open SaaS solutions…\n",
            "Following great success in year three of Sustainability LIVE, BizClik opens ticket sales for Net Zero LIVE at the Queen Elizabeth II Centre, London…\n",
            "Sustainability Magazine is a Digital Community for the global sustainability space that connects the world’s most sustainable brands & projects and their most senior executives with the latest trends as the sustainability market pivots towards technology and digital transformation.\n"
          ]
        }
      ]
    },
    {
      "cell_type": "code",
      "source": [
        "##Prinitng hyperlinks mentioned in the article\n",
        "for a in links:\n",
        "  print(a.text)"
      ],
      "metadata": {
        "colab": {
          "base_uri": "https://localhost:8080/"
        },
        "id": "U88cU5N0jwUR",
        "outputId": "3f6244d3-5039-4fd5-98a1-b57400affb65"
      },
      "execution_count": 43,
      "outputs": [
        {
          "output_type": "stream",
          "name": "stdout",
          "text": [
            "\n",
            "Advertise\n",
            "Editorial\n",
            "Georgia Wilson\n",
            "Unlock the Business Benefits of Sustainable IT Infrastructure\n",
            "infrastructure and operations\n",
            "Autumn Stanish\n",
            "attracting talent\n",
            "data centre\n",
            "sustainability\n",
            "IT\n",
            "risk management\n",
            "Georgia Wilson\n",
            "Deloitte-Google partnership for cloud-driven sustainability\n",
            "Tech & AI\n",
            "Nestlé consumer goods packaging adheres to circular economy\n",
            "ESG\n",
            "Exclusive Video: Sustainability LIVE Circular Economy Forum\n",
            "ESG\n",
            "Siemens steers sustainability as a GSF committee member\n",
            "Tech & AI\n",
            "\n",
            "\n",
            "\n",
            "\n",
            "\n",
            "\n",
            "Leveraging PLM and Circularity for Product Development\n",
            "Schneider Electric new hires for digital energy management\n",
            "Samsung Biologics’ sustainability agenda for biopharma\n",
            "Supply Pilot: Communicating the sustainability message\n",
            "Sandvik: Building sustainability into upstream supply chain\n",
            "\n",
            "LinkedIn\n",
            "Twitter\n",
            "Facebook\n",
            "Instagram\n",
            "YouTube\n",
            "Advertise with BizClik\n",
            "User Agreement\n",
            "Privacy Policy\n",
            "\n",
            "\n",
            "\n",
            "\n",
            "\n"
          ]
        }
      ]
    },
    {
      "cell_type": "code",
      "source": [
        "points = parse_elements(url, 'li')"
      ],
      "metadata": {
        "id": "_Mx798I1jwWw"
      },
      "execution_count": 44,
      "outputs": []
    },
    {
      "cell_type": "code",
      "source": [
        "for point in points:\n",
        "  print(point.text)"
      ],
      "metadata": {
        "colab": {
          "base_uri": "https://localhost:8080/"
        },
        "id": "xFw8DtTOjwZU",
        "outputId": "5178c384-a2e9-449c-f25c-9476efc84fa0"
      },
      "execution_count": 45,
      "outputs": [
        {
          "output_type": "stream",
          "name": "stdout",
          "text": [
            "Deloitte-Google partnership for cloud-driven sustainability\n",
            "Tech & AI\n",
            "Nestlé consumer goods packaging adheres to circular economy\n",
            "ESG\n",
            "Exclusive Video: Sustainability LIVE Circular Economy Forum\n",
            "ESG\n",
            "Siemens steers sustainability as a GSF committee member\n",
            "Tech & AI\n",
            "Leveraging PLM and Circularity for Product Development\n",
            "Schneider Electric new hires for digital energy management\n",
            "Samsung Biologics’ sustainability agenda for biopharma\n",
            "Supply Pilot: Communicating the sustainability message\n",
            "Sandvik: Building sustainability into upstream supply chain\n",
            "LinkedIn\n",
            "Twitter\n",
            "Facebook\n",
            "Instagram\n",
            "YouTube\n",
            "Advertise with BizClik\n",
            "User Agreement\n",
            "Privacy Policy\n"
          ]
        }
      ]
    },
    {
      "cell_type": "code",
      "source": [
        "def sentiment_detection(sentence):\n",
        "    # Define positive and negative words based on the provided paragraph\n",
        "    positive_words = ('sustainability', 'benefits', 'resilience', 'innovation', 'growth', 'effective', 'advantage', 'protects')\n",
        "    negative_words = ('costs', 'constraints', 'disruption', 'limitations', 'challenges', 'constraints', 'limitations')\n",
        "\n",
        "    # Check for the presence of positive and negative words in the sentence\n",
        "    positive = any(word in sentence for word in positive_words)\n",
        "    negative = any(word in sentence for word in negative_words)\n",
        "\n",
        "    if positive == negative == False:\n",
        "        return \"neutral\"\n",
        "    elif positive != negative:\n",
        "        return \"positive\" if positive else \"negative\"\n",
        "    else:\n",
        "        return \"mixed\"\n",
        "\n",
        "##Checking results on the sample data\n",
        "sentence = \"Sustainability can drive innovation and growth in organizations.\"\n",
        "result = sentiment_detection(sentence)\n",
        "print(f\"Sentence sentiment: {result}\")\n"
      ],
      "metadata": {
        "colab": {
          "base_uri": "https://localhost:8080/"
        },
        "id": "8R8ef-tIkL3Y",
        "outputId": "75082f25-ccd1-4acd-e2f8-44191f8f8abe"
      },
      "execution_count": 46,
      "outputs": [
        {
          "output_type": "stream",
          "name": "stdout",
          "text": [
            "Sentence sentiment: positive\n"
          ]
        }
      ]
    },
    {
      "cell_type": "code",
      "source": [
        "def topic_detection(sentence):\n",
        "    data_science_words = ('sustainability', 'benefits', 'resilience', 'innovation', 'growth', 'effective', 'advantage', 'protects')\n",
        "    ai_words = ('costs', 'constraints', 'disruption', 'limitations', 'challenges', 'constraints', 'limitations')\n",
        "\n",
        "    sustainability = any(word in sentence for word in data_science_words)\n",
        "    it_infrastructure = any(word in sentence for word in ai_words)\n",
        "\n",
        "    topics = []\n",
        "\n",
        "    if sustainability:\n",
        "        topics.append(\"Sustainability\")\n",
        "    if it_infrastructure:\n",
        "        topics.append(\"IT Infrastructure\")\n",
        "\n",
        "    return topics\n",
        "\n",
        "##Checking results on the sample data\n",
        "sentence = \"Sustainability can drive innovation and growth in organizations.\"\n",
        "topics = topic_detection(sentence)\n",
        "print(\"Topics mentioned:\", topics)\n"
      ],
      "metadata": {
        "colab": {
          "base_uri": "https://localhost:8080/"
        },
        "id": "gKLeKcxBkL6O",
        "outputId": "cdf3fbc4-2b87-4762-ef3a-9849abb2222b"
      },
      "execution_count": 47,
      "outputs": [
        {
          "output_type": "stream",
          "name": "stdout",
          "text": [
            "Topics mentioned: ['Sustainability']\n"
          ]
        }
      ]
    },
    {
      "cell_type": "code",
      "source": [
        "\n",
        "# Create a list to store the results\n",
        "results = []\n",
        "\n",
        "for p in range(0, len(paragraphs)):\n",
        "    if len(paragraphs[p].text) > 50:\n",
        "        paragraph_text = paragraphs[p].text\n",
        "        topics = topic_detection(paragraph_text)\n",
        "        results.append((paragraph_text, topics))\n",
        "\n",
        "# Given the name of the CSV file\n",
        "csv_filename = \"topic_results.csv\"\n",
        "\n",
        "# Write the results to the CSV file\n",
        "with open(csv_filename, 'w', newline='') as csvfile:\n",
        "    csv_writer = csv.writer(csvfile)\n",
        "\n",
        "    # Write the header\n",
        "    csv_writer.writerow(['Paragraph', 'Topics Mentioned'])\n",
        "\n",
        "    # Write the results\n",
        "    for result in results:\n",
        "        csv_writer.writerow(result)\n",
        "\n",
        "print(f\"Results saved to {csv_filename}\")\n"
      ],
      "metadata": {
        "colab": {
          "base_uri": "https://localhost:8080/"
        },
        "id": "DcS7JBi0kL9o",
        "outputId": "cfb6380c-fb62-4bbe-e698-4e5721da18e0"
      },
      "execution_count": 48,
      "outputs": [
        {
          "output_type": "stream",
          "name": "stdout",
          "text": [
            "Results saved to topic_results.csv\n"
          ]
        }
      ]
    },
    {
      "cell_type": "code",
      "source": [
        "##identifying the topics for further paragraph\n",
        "for p in range(0, len(points)):\n",
        "    #if len(points[p].text) > 50:\n",
        "    print((points[p].text))\n",
        "    print(f\"TALKS ABOUT: {topic_detection(points[p].text)}\")"
      ],
      "metadata": {
        "colab": {
          "base_uri": "https://localhost:8080/"
        },
        "id": "a6rwflsnjwc6",
        "outputId": "b56de458-030b-4578-e01b-ee04d59fb4e7"
      },
      "execution_count": 49,
      "outputs": [
        {
          "output_type": "stream",
          "name": "stdout",
          "text": [
            "Deloitte-Google partnership for cloud-driven sustainability\n",
            "Tech & AI\n",
            "TALKS ABOUT: ['Sustainability']\n",
            "Nestlé consumer goods packaging adheres to circular economy\n",
            "ESG\n",
            "TALKS ABOUT: []\n",
            "Exclusive Video: Sustainability LIVE Circular Economy Forum\n",
            "ESG\n",
            "TALKS ABOUT: []\n",
            "Siemens steers sustainability as a GSF committee member\n",
            "Tech & AI\n",
            "TALKS ABOUT: ['Sustainability']\n",
            "Leveraging PLM and Circularity for Product Development\n",
            "TALKS ABOUT: []\n",
            "Schneider Electric new hires for digital energy management\n",
            "TALKS ABOUT: []\n",
            "Samsung Biologics’ sustainability agenda for biopharma\n",
            "TALKS ABOUT: ['Sustainability']\n",
            "Supply Pilot: Communicating the sustainability message\n",
            "TALKS ABOUT: ['Sustainability']\n",
            "Sandvik: Building sustainability into upstream supply chain\n",
            "TALKS ABOUT: ['Sustainability']\n",
            "LinkedIn\n",
            "TALKS ABOUT: []\n",
            "Twitter\n",
            "TALKS ABOUT: []\n",
            "Facebook\n",
            "TALKS ABOUT: []\n",
            "Instagram\n",
            "TALKS ABOUT: []\n",
            "YouTube\n",
            "TALKS ABOUT: []\n",
            "Advertise with BizClik\n",
            "TALKS ABOUT: []\n",
            "User Agreement\n",
            "TALKS ABOUT: []\n",
            "Privacy Policy\n",
            "TALKS ABOUT: []\n"
          ]
        }
      ]
    },
    {
      "cell_type": "code",
      "source": [
        "for p in range(0, len(points)):\n",
        "    #if len(paragraphs[p].text) > 50:\n",
        "    print((points[p].text))\n",
        "    print(f\"TALKS ABOUT: {topic_detection(points[p].text)}\")"
      ],
      "metadata": {
        "colab": {
          "base_uri": "https://localhost:8080/"
        },
        "id": "gcLp4movlg65",
        "outputId": "b6b37d7d-d97d-4126-e54e-e30a457b83cf"
      },
      "execution_count": 50,
      "outputs": [
        {
          "output_type": "stream",
          "name": "stdout",
          "text": [
            "Deloitte-Google partnership for cloud-driven sustainability\n",
            "Tech & AI\n",
            "TALKS ABOUT: ['Sustainability']\n",
            "Nestlé consumer goods packaging adheres to circular economy\n",
            "ESG\n",
            "TALKS ABOUT: []\n",
            "Exclusive Video: Sustainability LIVE Circular Economy Forum\n",
            "ESG\n",
            "TALKS ABOUT: []\n",
            "Siemens steers sustainability as a GSF committee member\n",
            "Tech & AI\n",
            "TALKS ABOUT: ['Sustainability']\n",
            "Leveraging PLM and Circularity for Product Development\n",
            "TALKS ABOUT: []\n",
            "Schneider Electric new hires for digital energy management\n",
            "TALKS ABOUT: []\n",
            "Samsung Biologics’ sustainability agenda for biopharma\n",
            "TALKS ABOUT: ['Sustainability']\n",
            "Supply Pilot: Communicating the sustainability message\n",
            "TALKS ABOUT: ['Sustainability']\n",
            "Sandvik: Building sustainability into upstream supply chain\n",
            "TALKS ABOUT: ['Sustainability']\n",
            "LinkedIn\n",
            "TALKS ABOUT: []\n",
            "Twitter\n",
            "TALKS ABOUT: []\n",
            "Facebook\n",
            "TALKS ABOUT: []\n",
            "Instagram\n",
            "TALKS ABOUT: []\n",
            "YouTube\n",
            "TALKS ABOUT: []\n",
            "Advertise with BizClik\n",
            "TALKS ABOUT: []\n",
            "User Agreement\n",
            "TALKS ABOUT: []\n",
            "Privacy Policy\n",
            "TALKS ABOUT: []\n"
          ]
        }
      ]
    }
  ]
}