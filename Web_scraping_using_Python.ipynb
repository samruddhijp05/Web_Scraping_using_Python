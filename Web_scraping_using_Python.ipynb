{
  "nbformat": 4,
  "nbformat_minor": 0,
  "metadata": {
    "colab": {
      "provenance": [],
      "authorship_tag": "ABX9TyNvRjB7yYYntxmBZ9RxhXrw"
    },
    "kernelspec": {
      "name": "python3",
      "display_name": "Python 3"
    },
    "language_info": {
      "name": "python"
    }
  },
  "cells": [
    {
      "cell_type": "code",
      "execution_count": 1,
      "metadata": {
        "colab": {
          "base_uri": "https://localhost:8080/"
        },
        "id": "nQJWGj1vOs7H",
        "outputId": "2179c5bd-3051-4f01-b674-e5e26848b49a"
      },
      "outputs": [
        {
          "output_type": "stream",
          "name": "stdout",
          "text": [
            "Requirement already satisfied: requests in /usr/local/lib/python3.10/dist-packages (2.31.0)\n",
            "Requirement already satisfied: beautifulsoup4 in /usr/local/lib/python3.10/dist-packages (4.11.2)\n",
            "Collecting requests-html\n",
            "  Downloading requests_html-0.10.0-py3-none-any.whl (13 kB)\n",
            "Requirement already satisfied: charset-normalizer<4,>=2 in /usr/local/lib/python3.10/dist-packages (from requests) (3.3.1)\n",
            "Requirement already satisfied: idna<4,>=2.5 in /usr/local/lib/python3.10/dist-packages (from requests) (3.4)\n",
            "Requirement already satisfied: urllib3<3,>=1.21.1 in /usr/local/lib/python3.10/dist-packages (from requests) (2.0.7)\n",
            "Requirement already satisfied: certifi>=2017.4.17 in /usr/local/lib/python3.10/dist-packages (from requests) (2023.7.22)\n",
            "Requirement already satisfied: soupsieve>1.2 in /usr/local/lib/python3.10/dist-packages (from beautifulsoup4) (2.5)\n",
            "Collecting pyquery (from requests-html)\n",
            "  Downloading pyquery-2.0.0-py3-none-any.whl (22 kB)\n",
            "Collecting fake-useragent (from requests-html)\n",
            "  Downloading fake_useragent-1.3.0-py3-none-any.whl (15 kB)\n",
            "Collecting parse (from requests-html)\n",
            "  Downloading parse-1.19.1-py2.py3-none-any.whl (18 kB)\n",
            "Collecting bs4 (from requests-html)\n",
            "  Downloading bs4-0.0.1.tar.gz (1.1 kB)\n",
            "  Preparing metadata (setup.py) ... \u001b[?25l\u001b[?25hdone\n",
            "Collecting w3lib (from requests-html)\n",
            "  Downloading w3lib-2.1.2-py3-none-any.whl (21 kB)\n",
            "Collecting pyppeteer>=0.0.14 (from requests-html)\n",
            "  Downloading pyppeteer-1.0.2-py3-none-any.whl (83 kB)\n",
            "\u001b[2K     \u001b[90m━━━━━━━━━━━━━━━━━━━━━━━━━━━━━━━━━━━━━━━━\u001b[0m \u001b[32m83.4/83.4 kB\u001b[0m \u001b[31m4.8 MB/s\u001b[0m eta \u001b[36m0:00:00\u001b[0m\n",
            "\u001b[?25hRequirement already satisfied: appdirs<2.0.0,>=1.4.3 in /usr/local/lib/python3.10/dist-packages (from pyppeteer>=0.0.14->requests-html) (1.4.4)\n",
            "Requirement already satisfied: importlib-metadata>=1.4 in /usr/local/lib/python3.10/dist-packages (from pyppeteer>=0.0.14->requests-html) (6.8.0)\n",
            "Collecting pyee<9.0.0,>=8.1.0 (from pyppeteer>=0.0.14->requests-html)\n",
            "  Downloading pyee-8.2.2-py2.py3-none-any.whl (12 kB)\n",
            "Requirement already satisfied: tqdm<5.0.0,>=4.42.1 in /usr/local/lib/python3.10/dist-packages (from pyppeteer>=0.0.14->requests-html) (4.66.1)\n",
            "Collecting urllib3<3,>=1.21.1 (from requests)\n",
            "  Downloading urllib3-1.26.18-py2.py3-none-any.whl (143 kB)\n",
            "\u001b[2K     \u001b[90m━━━━━━━━━━━━━━━━━━━━━━━━━━━━━━━━━━━━━━━━\u001b[0m \u001b[32m143.8/143.8 kB\u001b[0m \u001b[31m9.7 MB/s\u001b[0m eta \u001b[36m0:00:00\u001b[0m\n",
            "\u001b[?25hCollecting websockets<11.0,>=10.0 (from pyppeteer>=0.0.14->requests-html)\n",
            "  Downloading websockets-10.4-cp310-cp310-manylinux_2_5_x86_64.manylinux1_x86_64.manylinux_2_17_x86_64.manylinux2014_x86_64.whl (106 kB)\n",
            "\u001b[2K     \u001b[90m━━━━━━━━━━━━━━━━━━━━━━━━━━━━━━━━━━━━━━━━\u001b[0m \u001b[32m106.8/106.8 kB\u001b[0m \u001b[31m8.6 MB/s\u001b[0m eta \u001b[36m0:00:00\u001b[0m\n",
            "\u001b[?25hRequirement already satisfied: lxml>=2.1 in /usr/local/lib/python3.10/dist-packages (from pyquery->requests-html) (4.9.3)\n",
            "Collecting cssselect>=1.2.0 (from pyquery->requests-html)\n",
            "  Downloading cssselect-1.2.0-py2.py3-none-any.whl (18 kB)\n",
            "Requirement already satisfied: zipp>=0.5 in /usr/local/lib/python3.10/dist-packages (from importlib-metadata>=1.4->pyppeteer>=0.0.14->requests-html) (3.17.0)\n",
            "Building wheels for collected packages: bs4\n",
            "  Building wheel for bs4 (setup.py) ... \u001b[?25l\u001b[?25hdone\n",
            "  Created wheel for bs4: filename=bs4-0.0.1-py3-none-any.whl size=1256 sha256=6735afa9ac707ffb6bb7b017c303b6497ff2415b9066e830ce31a3ee2bb4e78d\n",
            "  Stored in directory: /root/.cache/pip/wheels/25/42/45/b773edc52acb16cd2db4cf1a0b47117e2f69bb4eb300ed0e70\n",
            "Successfully built bs4\n",
            "Installing collected packages: pyee, parse, fake-useragent, websockets, w3lib, urllib3, cssselect, pyquery, pyppeteer, bs4, requests-html\n",
            "  Attempting uninstall: urllib3\n",
            "    Found existing installation: urllib3 2.0.7\n",
            "    Uninstalling urllib3-2.0.7:\n",
            "      Successfully uninstalled urllib3-2.0.7\n",
            "Successfully installed bs4-0.0.1 cssselect-1.2.0 fake-useragent-1.3.0 parse-1.19.1 pyee-8.2.2 pyppeteer-1.0.2 pyquery-2.0.0 requests-html-0.10.0 urllib3-1.26.18 w3lib-2.1.2 websockets-10.4\n"
          ]
        }
      ],
      "source": [
        "pip install requests beautifulsoup4 requests-html"
      ]
    },
    {
      "cell_type": "code",
      "source": [
        "import pandas as pd\n",
        "from urllib.parse import urlparse\n",
        "import numpy as np\n",
        "import nltk.data\n",
        "from requests_html import HTMLSession"
      ],
      "metadata": {
        "id": "8DpJ97QjPCXm"
      },
      "execution_count": 4,
      "outputs": []
    },
    {
      "cell_type": "code",
      "source": [
        "def parse_elements(url,element):\n",
        "    session = HTMLSession()\n",
        "    r = session.get(url)\n",
        "    elements = r.html.find(element)\n",
        "    return elements"
      ],
      "metadata": {
        "id": "dhIZViZ_PGyp"
      },
      "execution_count": 5,
      "outputs": []
    },
    {
      "cell_type": "code",
      "source": [
        "url = 'https://sustainabilitymag.com/articles/data-centres-future-is-sustainable-according-to-gartner'"
      ],
      "metadata": {
        "id": "olsic33yPG1X"
      },
      "execution_count": 6,
      "outputs": []
    },
    {
      "cell_type": "code",
      "source": [
        "paragraphs = parse_elements(url, 'p')\n",
        "links = parse_elements(url, 'a')"
      ],
      "metadata": {
        "id": "AgtE5FkAPG43"
      },
      "execution_count": 7,
      "outputs": []
    },
    {
      "cell_type": "code",
      "source": [
        "(paragraphs[0]).html"
      ],
      "metadata": {
        "colab": {
          "base_uri": "https://localhost:8080/",
          "height": 53
        },
        "id": "oZwP4X_WjwMc",
        "outputId": "633069cc-0791-4fd2-f060-9d395e15a911"
      },
      "execution_count": 8,
      "outputs": [
        {
          "output_type": "execute_result",
          "data": {
            "text/plain": [
              "'<p>Technology, an ever-expanding and rapidly evolving industry. With such a pace, it is important for organisations to not only think ahead when it comes to their adoption of new solutions but to also ensure that they do so in a sustainable way.</p>'"
            ],
            "application/vnd.google.colaboratory.intrinsic+json": {
              "type": "string"
            }
          },
          "metadata": {},
          "execution_count": 8
        }
      ]
    },
    {
      "cell_type": "code",
      "source": [
        "links_set = set()\n",
        "for link in links:\n",
        "  links_set.add(link.attrs['href'])\n",
        "len(links_set)"
      ],
      "metadata": {
        "colab": {
          "base_uri": "https://localhost:8080/"
        },
        "id": "CW2wdZgEjwPB",
        "outputId": "e48b8fd6-1546-40b4-e7f0-3902a5c72afc"
      },
      "execution_count": 9,
      "outputs": [
        {
          "output_type": "execute_result",
          "data": {
            "text/plain": [
              "38"
            ]
          },
          "metadata": {},
          "execution_count": 9
        }
      ]
    },
    {
      "cell_type": "code",
      "source": [
        "for p in paragraphs:\n",
        "  print(p.text)"
      ],
      "metadata": {
        "colab": {
          "base_uri": "https://localhost:8080/"
        },
        "id": "hUMH-1VjjwRx",
        "outputId": "0b62be07-35de-465c-a736-3579578c21d5"
      },
      "execution_count": 10,
      "outputs": [
        {
          "output_type": "stream",
          "name": "stdout",
          "text": [
            "Technology, an ever-expanding and rapidly evolving industry. With such a pace, it is important for organisations to not only think ahead when it comes to their adoption of new solutions but to also ensure that they do so in a sustainable way.\n",
            "Focusing on one technology in particular, Gartner analysts, explored the benefits of having a sustainable IT infrastructure in its latest report titled: Unlock the Business Benefits of Sustainable IT Infrastructure.\n",
            "According to Gartner, 75% of organisations will have implemented a data centre infrastructure sustainability programme by 2027 to drive cost optimisation and manage stakeholder pressures. This figure has drastically increased from less than 5% in 2022.\n",
            "“Responsibilities for sustainability are increasingly being passed down from CIOs to infrastructure and operations (I&O) leaders to improve IT’s environmental performance, particularly around data centres,” said Autumn Stanish, Senior Principal Analyst at Gartner.\n",
            "She added: “This has led many down the path of greater spend and investment in environmental solutions, but environmental impact shouldn’t be the only focus. Sustainability can also have a significant positive impact on non-environmental factors, such as brand, innovation, resilience and attracting talent.”\n",
            "However, Gartner emphasises that the environmental performance of IT infrastructure is only one facet of a strong infrastructure and operations (I&O) sustainability strategy.\n",
            "“Success in aligning the I&O strategy with critical business outcomes requires a more comprehensive approach that recognises the indirect benefits that come with sustainable IT operations. This is true specifically for organisations in which IT is material to the business, such as financial services,” said Stanish.\n",
            "Cost reduction: the most effective action that an I&O leader can take is to defer purchasing new equipment and better manage, optimise or redeploy what they already have. Up to 60% in cost savings can be achieved by extending the lifespan of a product from three to five years.\n",
            "Innovation: using sustainable strategies to drive innovation and growth through new products and business models. In particular, such innovations are based on AI technology, analytics insights, and circular business models.\n",
            "“The core focus of many enterprises with a sustainability strategy is actually around how they can use it to drive innovation, differentiation and growth through new products and business models. However, fewer than half of I&O leaders we speak to are currently taking advantage of the business benefits beyond reduced energy costs,” commented Stanish.\n",
            "Risk management and mitigation: with price fluctuations and supply constraints, greater resilience can be achieved with better risk management and mitigation by being more sustainable in recycling and resource utilisation. According to Gartner, 85% of leaders agree that sustainability protects organisations from disruption.\n",
            "Following a major commitment to packaging innovation five years ago, we see the benefits of circular economy at Nestlé as explained by Antonia Wanner…\n",
            "The Green Software Foundation (GSF) welcomes Siemens to the steering committee, and CTO and CSO Peter Körte comments on sustainable open SaaS solutions…\n",
            "Following great success in year three of Sustainability LIVE, BizClik opens ticket sales for Net Zero LIVE at the Queen Elizabeth II Centre, London…\n",
            "Sustainability Magazine is a Digital Community for the global sustainability space that connects the world’s most sustainable brands & projects and their most senior executives with the latest trends as the sustainability market pivots towards technology and digital transformation.\n"
          ]
        }
      ]
    },
    {
      "cell_type": "code",
      "source": [
        "for a in links:\n",
        "  print(a.text)"
      ],
      "metadata": {
        "colab": {
          "base_uri": "https://localhost:8080/"
        },
        "id": "U88cU5N0jwUR",
        "outputId": "11ebee27-018d-4ba2-e869-a6fa7e47a39a"
      },
      "execution_count": 11,
      "outputs": [
        {
          "output_type": "stream",
          "name": "stdout",
          "text": [
            "\n",
            "Advertise\n",
            "Editorial\n",
            "Georgia Wilson\n",
            "Unlock the Business Benefits of Sustainable IT Infrastructure\n",
            "infrastructure and operations\n",
            "Autumn Stanish\n",
            "attracting talent\n",
            "data centre\n",
            "sustainability\n",
            "IT\n",
            "risk management\n",
            "Georgia Wilson\n",
            "Deloitte-Google partnership for cloud-driven sustainability\n",
            "Tech & AI\n",
            "Nestlé consumer goods packaging adheres to circular economy\n",
            "ESG\n",
            "Exclusive Video: Sustainability LIVE Circular Economy Forum\n",
            "ESG\n",
            "Siemens steers sustainability as a GSF committee member\n",
            "Tech & AI\n",
            "\n",
            "\n",
            "\n",
            "\n",
            "\n",
            "\n",
            "Leveraging PLM and Circularity for Product Development\n",
            "Schneider Electric new hires for digital energy management\n",
            "Samsung Biologics’ sustainability agenda for biopharma\n",
            "Supply Pilot: Communicating the sustainability message\n",
            "Sandvik: Building sustainability into upstream supply chain\n",
            "\n",
            "LinkedIn\n",
            "Twitter\n",
            "Facebook\n",
            "Instagram\n",
            "YouTube\n",
            "Advertise with BizClik\n",
            "User Agreement\n",
            "Privacy Policy\n",
            "\n",
            "\n",
            "\n",
            "\n",
            "\n"
          ]
        }
      ]
    },
    {
      "cell_type": "code",
      "source": [
        "points = parse_elements(url, 'li')"
      ],
      "metadata": {
        "id": "_Mx798I1jwWw"
      },
      "execution_count": 12,
      "outputs": []
    },
    {
      "cell_type": "code",
      "source": [
        "for point in points:\n",
        "  print(point.text)"
      ],
      "metadata": {
        "colab": {
          "base_uri": "https://localhost:8080/"
        },
        "id": "xFw8DtTOjwZU",
        "outputId": "4c658846-bdab-4623-c83a-1589745a27bd"
      },
      "execution_count": 13,
      "outputs": [
        {
          "output_type": "stream",
          "name": "stdout",
          "text": [
            "Deloitte-Google partnership for cloud-driven sustainability\n",
            "Tech & AI\n",
            "Nestlé consumer goods packaging adheres to circular economy\n",
            "ESG\n",
            "Exclusive Video: Sustainability LIVE Circular Economy Forum\n",
            "ESG\n",
            "Siemens steers sustainability as a GSF committee member\n",
            "Tech & AI\n",
            "Leveraging PLM and Circularity for Product Development\n",
            "Schneider Electric new hires for digital energy management\n",
            "Samsung Biologics’ sustainability agenda for biopharma\n",
            "Supply Pilot: Communicating the sustainability message\n",
            "Sandvik: Building sustainability into upstream supply chain\n",
            "LinkedIn\n",
            "Twitter\n",
            "Facebook\n",
            "Instagram\n",
            "YouTube\n",
            "Advertise with BizClik\n",
            "User Agreement\n",
            "Privacy Policy\n"
          ]
        }
      ]
    },
    {
      "cell_type": "code",
      "source": [
        "def sentiment_detection(sentence):\n",
        "    # Define positive and negative words based on the provided paragraph\n",
        "    positive_words = ('sustainability', 'benefits', 'resilience', 'innovation', 'growth', 'effective', 'advantage', 'protects')\n",
        "    negative_words = ('costs', 'constraints', 'disruption', 'limitations', 'challenges', 'constraints', 'limitations')\n",
        "\n",
        "    # Check for the presence of positive and negative words in the sentence\n",
        "    positive = any(word in sentence for word in positive_words)\n",
        "    negative = any(word in sentence for word in negative_words)\n",
        "\n",
        "    if positive == negative == False:\n",
        "        return \"neutral\"\n",
        "    elif positive != negative:\n",
        "        return \"positive\" if positive else \"negative\"\n",
        "    else:\n",
        "        return \"mixed\"\n",
        "\n",
        "\n",
        "sentence = \"Sustainability can drive innovation and growth in organizations.\"\n",
        "result = sentiment_detection(sentence)\n",
        "print(f\"Sentence sentiment: {result}\")\n"
      ],
      "metadata": {
        "colab": {
          "base_uri": "https://localhost:8080/"
        },
        "id": "8R8ef-tIkL3Y",
        "outputId": "749af0b2-045c-45f7-e4c3-c312e621bca5"
      },
      "execution_count": 14,
      "outputs": [
        {
          "output_type": "stream",
          "name": "stdout",
          "text": [
            "Sentence sentiment: positive\n"
          ]
        }
      ]
    },
    {
      "cell_type": "code",
      "source": [
        "def topic_detection(sentence):\n",
        "    data_science_words = ('sustainability', 'benefits', 'resilience', 'innovation', 'growth', 'effective', 'advantage', 'protects')\n",
        "    ai_words = ('costs', 'constraints', 'disruption', 'limitations', 'challenges', 'constraints', 'limitations')\n",
        "\n",
        "    sustainability = any(word in sentence for word in data_science_words)\n",
        "    it_infrastructure = any(word in sentence for word in ai_words)\n",
        "\n",
        "    topics = []\n",
        "\n",
        "    if sustainability:\n",
        "        topics.append(\"Sustainability\")\n",
        "    if it_infrastructure:\n",
        "        topics.append(\"IT Infrastructure\")\n",
        "\n",
        "    return topics\n",
        "\n",
        "\n",
        "sentence = \"Sustainability can drive innovation and growth in organizations.\"\n",
        "topics = topic_detection(sentence)\n",
        "print(\"Topics mentioned:\", topics)\n"
      ],
      "metadata": {
        "colab": {
          "base_uri": "https://localhost:8080/"
        },
        "id": "gKLeKcxBkL6O",
        "outputId": "871c309d-3978-432e-c7fd-b2f44dc6ea3c"
      },
      "execution_count": 15,
      "outputs": [
        {
          "output_type": "stream",
          "name": "stdout",
          "text": [
            "Topics mentioned: ['Sustainability']\n"
          ]
        }
      ]
    },
    {
      "cell_type": "code",
      "source": [
        "#print(paragraphs)\n",
        "for p in range(0, len(paragraphs)):\n",
        "    if len(paragraphs[p].text) > 50:\n",
        "      print((paragraphs[p].text))\n",
        "      print(f\"TALKS ABOUT: {topic_detection(paragraphs[p].text)}\")"
      ],
      "metadata": {
        "colab": {
          "base_uri": "https://localhost:8080/"
        },
        "id": "DcS7JBi0kL9o",
        "outputId": "f1b29ad5-7b3e-476f-8334-1cb6013a05f8"
      },
      "execution_count": 16,
      "outputs": [
        {
          "output_type": "stream",
          "name": "stdout",
          "text": [
            "Technology, an ever-expanding and rapidly evolving industry. With such a pace, it is important for organisations to not only think ahead when it comes to their adoption of new solutions but to also ensure that they do so in a sustainable way.\n",
            "TALKS ABOUT: []\n",
            "Focusing on one technology in particular, Gartner analysts, explored the benefits of having a sustainable IT infrastructure in its latest report titled: Unlock the Business Benefits of Sustainable IT Infrastructure.\n",
            "TALKS ABOUT: ['Sustainability']\n",
            "According to Gartner, 75% of organisations will have implemented a data centre infrastructure sustainability programme by 2027 to drive cost optimisation and manage stakeholder pressures. This figure has drastically increased from less than 5% in 2022.\n",
            "TALKS ABOUT: ['Sustainability']\n",
            "“Responsibilities for sustainability are increasingly being passed down from CIOs to infrastructure and operations (I&O) leaders to improve IT’s environmental performance, particularly around data centres,” said Autumn Stanish, Senior Principal Analyst at Gartner.\n",
            "TALKS ABOUT: ['Sustainability']\n",
            "She added: “This has led many down the path of greater spend and investment in environmental solutions, but environmental impact shouldn’t be the only focus. Sustainability can also have a significant positive impact on non-environmental factors, such as brand, innovation, resilience and attracting talent.”\n",
            "TALKS ABOUT: ['Sustainability']\n",
            "However, Gartner emphasises that the environmental performance of IT infrastructure is only one facet of a strong infrastructure and operations (I&O) sustainability strategy.\n",
            "TALKS ABOUT: ['Sustainability']\n",
            "“Success in aligning the I&O strategy with critical business outcomes requires a more comprehensive approach that recognises the indirect benefits that come with sustainable IT operations. This is true specifically for organisations in which IT is material to the business, such as financial services,” said Stanish.\n",
            "TALKS ABOUT: ['Sustainability']\n",
            "Cost reduction: the most effective action that an I&O leader can take is to defer purchasing new equipment and better manage, optimise or redeploy what they already have. Up to 60% in cost savings can be achieved by extending the lifespan of a product from three to five years.\n",
            "TALKS ABOUT: ['Sustainability']\n",
            "Innovation: using sustainable strategies to drive innovation and growth through new products and business models. In particular, such innovations are based on AI technology, analytics insights, and circular business models.\n",
            "TALKS ABOUT: ['Sustainability']\n",
            "“The core focus of many enterprises with a sustainability strategy is actually around how they can use it to drive innovation, differentiation and growth through new products and business models. However, fewer than half of I&O leaders we speak to are currently taking advantage of the business benefits beyond reduced energy costs,” commented Stanish.\n",
            "TALKS ABOUT: ['Sustainability', 'IT Infrastructure']\n",
            "Risk management and mitigation: with price fluctuations and supply constraints, greater resilience can be achieved with better risk management and mitigation by being more sustainable in recycling and resource utilisation. According to Gartner, 85% of leaders agree that sustainability protects organisations from disruption.\n",
            "TALKS ABOUT: ['Sustainability', 'IT Infrastructure']\n",
            "Following a major commitment to packaging innovation five years ago, we see the benefits of circular economy at Nestlé as explained by Antonia Wanner…\n",
            "TALKS ABOUT: ['Sustainability']\n",
            "The Green Software Foundation (GSF) welcomes Siemens to the steering committee, and CTO and CSO Peter Körte comments on sustainable open SaaS solutions…\n",
            "TALKS ABOUT: []\n",
            "Following great success in year three of Sustainability LIVE, BizClik opens ticket sales for Net Zero LIVE at the Queen Elizabeth II Centre, London…\n",
            "TALKS ABOUT: []\n",
            "Sustainability Magazine is a Digital Community for the global sustainability space that connects the world’s most sustainable brands & projects and their most senior executives with the latest trends as the sustainability market pivots towards technology and digital transformation.\n",
            "TALKS ABOUT: ['Sustainability']\n"
          ]
        }
      ]
    },
    {
      "cell_type": "code",
      "source": [
        "for p in range(0, len(points)):\n",
        "    #if len(points[p].text) > 50:\n",
        "    print((points[p].text))\n",
        "    print(f\"TALKS ABOUT: {topic_detection(points[p].text)}\")"
      ],
      "metadata": {
        "colab": {
          "base_uri": "https://localhost:8080/"
        },
        "id": "a6rwflsnjwc6",
        "outputId": "ef901d10-0e61-4ffc-a80b-f410b897d8d6"
      },
      "execution_count": 17,
      "outputs": [
        {
          "output_type": "stream",
          "name": "stdout",
          "text": [
            "Deloitte-Google partnership for cloud-driven sustainability\n",
            "Tech & AI\n",
            "TALKS ABOUT: ['Sustainability']\n",
            "Nestlé consumer goods packaging adheres to circular economy\n",
            "ESG\n",
            "TALKS ABOUT: []\n",
            "Exclusive Video: Sustainability LIVE Circular Economy Forum\n",
            "ESG\n",
            "TALKS ABOUT: []\n",
            "Siemens steers sustainability as a GSF committee member\n",
            "Tech & AI\n",
            "TALKS ABOUT: ['Sustainability']\n",
            "Leveraging PLM and Circularity for Product Development\n",
            "TALKS ABOUT: []\n",
            "Schneider Electric new hires for digital energy management\n",
            "TALKS ABOUT: []\n",
            "Samsung Biologics’ sustainability agenda for biopharma\n",
            "TALKS ABOUT: ['Sustainability']\n",
            "Supply Pilot: Communicating the sustainability message\n",
            "TALKS ABOUT: ['Sustainability']\n",
            "Sandvik: Building sustainability into upstream supply chain\n",
            "TALKS ABOUT: ['Sustainability']\n",
            "LinkedIn\n",
            "TALKS ABOUT: []\n",
            "Twitter\n",
            "TALKS ABOUT: []\n",
            "Facebook\n",
            "TALKS ABOUT: []\n",
            "Instagram\n",
            "TALKS ABOUT: []\n",
            "YouTube\n",
            "TALKS ABOUT: []\n",
            "Advertise with BizClik\n",
            "TALKS ABOUT: []\n",
            "User Agreement\n",
            "TALKS ABOUT: []\n",
            "Privacy Policy\n",
            "TALKS ABOUT: []\n"
          ]
        }
      ]
    },
    {
      "cell_type": "code",
      "source": [
        "for p in range(0, len(points)):\n",
        "    #if len(paragraphs[p].text) > 50:\n",
        "    print((points[p].text))\n",
        "    print(f\"TALKS ABOUT: {topic_detection(points[p].text)}\")"
      ],
      "metadata": {
        "colab": {
          "base_uri": "https://localhost:8080/"
        },
        "id": "gcLp4movlg65",
        "outputId": "0c87a093-2ed4-4e1a-d25b-b100aede5cd1"
      },
      "execution_count": 18,
      "outputs": [
        {
          "output_type": "stream",
          "name": "stdout",
          "text": [
            "Deloitte-Google partnership for cloud-driven sustainability\n",
            "Tech & AI\n",
            "TALKS ABOUT: ['Sustainability']\n",
            "Nestlé consumer goods packaging adheres to circular economy\n",
            "ESG\n",
            "TALKS ABOUT: []\n",
            "Exclusive Video: Sustainability LIVE Circular Economy Forum\n",
            "ESG\n",
            "TALKS ABOUT: []\n",
            "Siemens steers sustainability as a GSF committee member\n",
            "Tech & AI\n",
            "TALKS ABOUT: ['Sustainability']\n",
            "Leveraging PLM and Circularity for Product Development\n",
            "TALKS ABOUT: []\n",
            "Schneider Electric new hires for digital energy management\n",
            "TALKS ABOUT: []\n",
            "Samsung Biologics’ sustainability agenda for biopharma\n",
            "TALKS ABOUT: ['Sustainability']\n",
            "Supply Pilot: Communicating the sustainability message\n",
            "TALKS ABOUT: ['Sustainability']\n",
            "Sandvik: Building sustainability into upstream supply chain\n",
            "TALKS ABOUT: ['Sustainability']\n",
            "LinkedIn\n",
            "TALKS ABOUT: []\n",
            "Twitter\n",
            "TALKS ABOUT: []\n",
            "Facebook\n",
            "TALKS ABOUT: []\n",
            "Instagram\n",
            "TALKS ABOUT: []\n",
            "YouTube\n",
            "TALKS ABOUT: []\n",
            "Advertise with BizClik\n",
            "TALKS ABOUT: []\n",
            "User Agreement\n",
            "TALKS ABOUT: []\n",
            "Privacy Policy\n",
            "TALKS ABOUT: []\n"
          ]
        }
      ]
    },
    {
      "cell_type": "code",
      "source": [],
      "metadata": {
        "id": "E9mJuEx0lg3c"
      },
      "execution_count": null,
      "outputs": []
    },
    {
      "cell_type": "code",
      "source": [],
      "metadata": {
        "id": "DVYIBpTuluRL"
      },
      "execution_count": null,
      "outputs": []
    },
    {
      "cell_type": "code",
      "source": [],
      "metadata": {
        "id": "7y9f7ehvluN2"
      },
      "execution_count": null,
      "outputs": []
    },
    {
      "cell_type": "code",
      "source": [],
      "metadata": {
        "id": "v-87ET2Dlg0p"
      },
      "execution_count": null,
      "outputs": []
    }
  ]
}